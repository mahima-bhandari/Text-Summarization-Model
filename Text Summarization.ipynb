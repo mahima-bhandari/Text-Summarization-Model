{
 "cells": [
  {
   "cell_type": "code",
   "execution_count": 34,
   "id": "578b3814-69d2-481d-9cd1-d8aeaaff9c1d",
   "metadata": {},
   "outputs": [
    {
     "name": "stdin",
     "output_type": "stream",
     "text": [
      "Enter the text to summarize :  In recent years, the field of artificial intelligence (AI) has experienced unprecedented growth and innovation, revolutionizing various facets of human existence. AI technologies, encompassing machine learning, natural language processing, computer vision, and robotics, have permeated nearly every aspect of our daily lives.  From virtual assistants like Siri and Alexa that assist with tasks and provide information, to sophisticated algorithms powering self-driving cars, AI has become an integral part of modern society. Furthermore, AI-driven recommendation systems on streaming platforms and e-commerce websites offer personalized content and product suggestions, enhancing user experiences and driving engagement. The impact of AI extends far beyond consumer applications. In healthcare, AI algorithms analyze medical data to aid in disease diagnosis and treatment planning, potentially improving patient outcomes and reducing healthcare costs. In finance, AI-powered algorithms analyze vast amounts of data to identify market trends, manage risk, and optimize investment strategies.  Moreover, AI technologies are reshaping the manufacturing landscape through automation and predictive maintenance, leading to increased efficiency and reduced downtime. In entertainment, AI is used to create immersive experiences, such as virtual reality games and augmented reality applications. However, the widespread adoption of AI also presents significant ethical and societal challenges. Concerns about data privacy and security have emerged as AI systems rely on vast amounts of personal data for training and decision-making. Moreover, issues of algorithmic bias have raised questions about fairness and accountability, particularly in areas like hiring, lending, and law enforcement where AI systems can perpetuate or exacerbate existing inequalities. Furthermore, there are concerns about the potential impact of AI on employment, with fears that automation could lead to job displacement and exacerbate income inequality. Addressing these challenges requires careful consideration of ethical principles, regulatory frameworks, and technological safeguards to ensure that AI benefits society as a whole. Despite these challenges, the potential of AI to transform industries and address complex problems remains immense. With ongoing research and collaboration across disciplines, AI holds the promise of driving innovation, enhancing productivity, and improving quality of life for people around the world.\"  This version provides a more detailed overview of the impact, challenges, and potential of artificial intelligence in various domains. Let me know if you need further adjustments or assistance!\n"
     ]
    }
   ],
   "source": [
    "text = input('Enter the text to summarize : ')"
   ]
  },
  {
   "cell_type": "code",
   "execution_count": 35,
   "id": "6960a6a2-0739-400b-9f8a-451b9120779e",
   "metadata": {},
   "outputs": [
    {
     "data": {
      "text/plain": [
       "2705"
      ]
     },
     "execution_count": 35,
     "metadata": {},
     "output_type": "execute_result"
    }
   ],
   "source": [
    "len(text)"
   ]
  },
  {
   "cell_type": "code",
   "execution_count": 3,
   "id": "d673ce01-1f45-486a-8d65-d661829ced1c",
   "metadata": {},
   "outputs": [],
   "source": [
    "import spacy"
   ]
  },
  {
   "cell_type": "code",
   "execution_count": 4,
   "id": "35236516-e666-4b9f-8dc1-0fc70cd175b5",
   "metadata": {},
   "outputs": [],
   "source": [
    "from spacy.lang.en.stop_words import STOP_WORDS"
   ]
  },
  {
   "cell_type": "code",
   "execution_count": 5,
   "id": "d4d97a54-e407-485a-ba59-f2fce86e2331",
   "metadata": {},
   "outputs": [],
   "source": [
    "from string import punctuation"
   ]
  },
  {
   "cell_type": "code",
   "execution_count": 6,
   "id": "ef954e37-b13f-4e25-a595-804fd354fad5",
   "metadata": {},
   "outputs": [],
   "source": [
    "nlp = spacy.load('en_core_web_sm')"
   ]
  },
  {
   "cell_type": "code",
   "execution_count": 7,
   "id": "ebe132a5-ef23-40db-9a97-c805fc456670",
   "metadata": {},
   "outputs": [],
   "source": [
    "doc = nlp(text)"
   ]
  },
  {
   "cell_type": "code",
   "execution_count": 8,
   "id": "f91ef0ce-5cdf-4210-83bd-be2c3ed07bb7",
   "metadata": {},
   "outputs": [
    {
     "name": "stdout",
     "output_type": "stream",
     "text": [
      "['In', 'recent', 'years', ',', 'the', 'field', 'of', 'artificial', 'intelligence', '(', 'AI', ')', 'has', 'experienced', 'unprecedented', 'growth', 'and', 'innovation', ',', 'revolutionizing', 'various', 'facets', 'of', 'human', 'existence', '.', 'AI', 'technologies', ',', 'encompassing', 'machine', 'learning', ',', 'natural', 'language', 'processing', ',', 'computer', 'vision', ',', 'and', 'robotics', ',', 'have', 'permeated', 'nearly', 'every', 'aspect', 'of', 'our', 'daily', 'lives', '.', '\\n', 'From', 'virtual', 'assistants', 'like', 'Siri', 'and', 'Alexa', 'that', 'assist', 'with', 'tasks', 'and', 'provide', 'information', ',', 'to', 'sophisticated', 'algorithms', 'powering', 'self', '-', 'driving', 'cars', ',', 'AI', 'has', 'become', 'an', 'integral', 'part', 'of', 'modern', 'society', '.', 'Furthermore', ',', 'AI', '-', 'driven', 'recommendation', 'systems', 'on', 'streaming', 'platforms', 'and', 'e', '-', 'commerce', 'websites', 'offer', 'personalized', 'content', 'and', 'product', 'suggestions', ',', 'enhancing', 'user', 'experiences', 'and', 'driving', 'engagement', '.', '\\n', 'The', 'impact', 'of', 'AI', 'extends', 'far', 'beyond', 'consumer', 'applications', '.', 'In', 'healthcare', ',', 'AI', 'algorithms', 'analyze', 'medical', 'data', 'to', 'aid', 'in', 'disease', 'diagnosis', 'and', 'treatment', 'planning', ',', 'potentially', 'improving', 'patient', 'outcomes', 'and', 'reducing', 'healthcare', 'costs', '.', 'In', 'finance', ',', 'AI', '-', 'powered', 'algorithms', 'analyze', 'vast', 'amounts', 'of', 'data', 'to', 'identify', 'market', 'trends', ',', 'manage', 'risk', ',', 'and', 'optimize', 'investment', 'strategies', '.', '\\n', 'Moreover', ',', 'AI', 'technologies', 'are', 'reshaping', 'the', 'manufacturing', 'landscape', 'through', 'automation', 'and', 'predictive', 'maintenance', ',', 'leading', 'to', 'increased', 'efficiency', 'and', 'reduced', 'downtime', '.', 'In', 'entertainment', ',', 'AI', 'is', 'used', 'to', 'create', 'immersive', 'experiences', ',', 'such', 'as', 'virtual', 'reality', 'games', 'and', 'augmented', 'reality', 'applications', '.', '\\n', 'However', ',', 'the', 'widespread', 'adoption', 'of', 'AI', 'also', 'presents', 'significant', 'ethical', 'and', 'societal', 'challenges', '.', 'Concerns', 'about', 'data', 'privacy', 'and', 'security', 'have', 'emerged', 'as', 'AI', 'systems', 'rely', 'on', 'vast', 'amounts', 'of', 'personal', 'data', 'for', 'training', 'and', 'decision', '-', 'making', '.', 'Moreover', ',', 'issues', 'of', 'algorithmic', 'bias', 'have', 'raised', 'questions', 'about', 'fairness', 'and', 'accountability', ',', 'particularly', 'in', 'areas', 'like', 'hiring', ',', 'lending', ',', 'and', 'law', 'enforcement', 'where', 'AI', 'systems', 'can', 'perpetuate', 'or', 'exacerbate', 'existing', 'inequalities', '.', '\\n', 'Furthermore', ',', 'there', 'are', 'concerns', 'about', 'the', 'potential', 'impact', 'of', 'AI', 'on', 'employment', ',', 'with', 'fears', 'that', 'automation', 'could', 'lead', 'to', 'job', 'displacement', 'and', 'exacerbate', 'income', 'inequality', '.', 'Addressing', 'these', 'challenges', 'requires', 'careful', 'consideration', 'of', 'ethical', 'principles', ',', 'regulatory', 'frameworks', ',', 'and', 'technological', 'safeguards', 'to', 'ensure', 'that', 'AI', 'benefits', 'society', 'as', 'a', 'whole', '.', '\\n', 'Despite', 'these', 'challenges', ',', 'the', 'potential', 'of', 'AI', 'to', 'transform', 'industries', 'and', 'address', 'complex', 'problems', 'remains', 'immense', '.', 'With', 'ongoing', 'research', 'and', 'collaboration', 'across', 'disciplines', ',', 'AI', 'holds', 'the', 'promise', 'of', 'driving', 'innovation', ',', 'enhancing', 'productivity', ',', 'and', 'improving', 'quality', 'of', 'life', 'for', 'people', 'around', 'the', 'world', '.', '\"', '\\n', 'This', 'version', 'provides', 'a', 'more', 'detailed', 'overview', 'of', 'the', 'impact', ',', 'challenges', ',', 'and', 'potential', 'of', 'artificial', 'intelligence', 'in', 'various', 'domains', '.', 'Let', 'me', 'know', 'if', 'you', 'need', 'further', 'adjustments', 'or', 'assistance', '!']\n"
     ]
    }
   ],
   "source": [
    "tokens = [token.text for token in doc]\n",
    "print(tokens)"
   ]
  },
  {
   "cell_type": "code",
   "execution_count": 9,
   "id": "7944dbc4-dcb6-4f3a-a20d-139ad6f6e39f",
   "metadata": {},
   "outputs": [
    {
     "data": {
      "text/plain": [
       "'!\"#$%&\\'()*+,-./:;<=>?@[\\\\]^_`{|}~'"
      ]
     },
     "execution_count": 9,
     "metadata": {},
     "output_type": "execute_result"
    }
   ],
   "source": [
    "punctuation"
   ]
  },
  {
   "cell_type": "code",
   "execution_count": 10,
   "id": "01307f2b-f877-4ab8-bb4f-e3000b64d313",
   "metadata": {},
   "outputs": [],
   "source": [
    "punctuation = punctuation + '\\n'"
   ]
  },
  {
   "cell_type": "code",
   "execution_count": 11,
   "id": "2e19f667-e4d8-43ec-a27d-77ded8955f5f",
   "metadata": {},
   "outputs": [
    {
     "data": {
      "text/plain": [
       "'!\"#$%&\\'()*+,-./:;<=>?@[\\\\]^_`{|}~\\n'"
      ]
     },
     "execution_count": 11,
     "metadata": {},
     "output_type": "execute_result"
    }
   ],
   "source": [
    "punctuation"
   ]
  },
  {
   "cell_type": "code",
   "execution_count": 12,
   "id": "540f2b51-016c-41f9-a008-b0ffd84af8e5",
   "metadata": {},
   "outputs": [],
   "source": [
    "word_freq ={}\n",
    "\n",
    "stop_words = list(STOP_WORDS)\n",
    "\n",
    "for word in doc:\n",
    "    if word.text.lower() not in stop_words:\n",
    "        if word.text.lower() not in punctuation:\n",
    "            if word.text not in word_freq.keys():\n",
    "                word_freq[word.text] = 1\n",
    "            else:\n",
    "                word_freq[word.text] += 1"
   ]
  },
  {
   "cell_type": "code",
   "execution_count": 13,
   "id": "fa4c4a33-8c2a-481f-ab66-a1a95d9ce742",
   "metadata": {},
   "outputs": [
    {
     "name": "stdout",
     "output_type": "stream",
     "text": [
      "{'recent': 1, 'years': 1, 'field': 1, 'artificial': 2, 'intelligence': 2, 'AI': 16, 'experienced': 1, 'unprecedented': 1, 'growth': 1, 'innovation': 2, 'revolutionizing': 1, 'facets': 1, 'human': 1, 'existence': 1, 'technologies': 2, 'encompassing': 1, 'machine': 1, 'learning': 1, 'natural': 1, 'language': 1, 'processing': 1, 'computer': 1, 'vision': 1, 'robotics': 1, 'permeated': 1, 'nearly': 1, 'aspect': 1, 'daily': 1, 'lives': 1, 'virtual': 2, 'assistants': 1, 'like': 2, 'Siri': 1, 'Alexa': 1, 'assist': 1, 'tasks': 1, 'provide': 1, 'information': 1, 'sophisticated': 1, 'algorithms': 3, 'powering': 1, 'self': 1, 'driving': 3, 'cars': 1, 'integral': 1, 'modern': 1, 'society': 2, 'Furthermore': 2, 'driven': 1, 'recommendation': 1, 'systems': 3, 'streaming': 1, 'platforms': 1, 'e': 1, 'commerce': 1, 'websites': 1, 'offer': 1, 'personalized': 1, 'content': 1, 'product': 1, 'suggestions': 1, 'enhancing': 2, 'user': 1, 'experiences': 2, 'engagement': 1, 'impact': 3, 'extends': 1, 'far': 1, 'consumer': 1, 'applications': 2, 'healthcare': 2, 'analyze': 2, 'medical': 1, 'data': 4, 'aid': 1, 'disease': 1, 'diagnosis': 1, 'treatment': 1, 'planning': 1, 'potentially': 1, 'improving': 2, 'patient': 1, 'outcomes': 1, 'reducing': 1, 'costs': 1, 'finance': 1, 'powered': 1, 'vast': 2, 'amounts': 2, 'identify': 1, 'market': 1, 'trends': 1, 'manage': 1, 'risk': 1, 'optimize': 1, 'investment': 1, 'strategies': 1, 'reshaping': 1, 'manufacturing': 1, 'landscape': 1, 'automation': 2, 'predictive': 1, 'maintenance': 1, 'leading': 1, 'increased': 1, 'efficiency': 1, 'reduced': 1, 'downtime': 1, 'entertainment': 1, 'create': 1, 'immersive': 1, 'reality': 2, 'games': 1, 'augmented': 1, 'widespread': 1, 'adoption': 1, 'presents': 1, 'significant': 1, 'ethical': 2, 'societal': 1, 'challenges': 4, 'Concerns': 1, 'privacy': 1, 'security': 1, 'emerged': 1, 'rely': 1, 'personal': 1, 'training': 1, 'decision': 1, 'making': 1, 'issues': 1, 'algorithmic': 1, 'bias': 1, 'raised': 1, 'questions': 1, 'fairness': 1, 'accountability': 1, 'particularly': 1, 'areas': 1, 'hiring': 1, 'lending': 1, 'law': 1, 'enforcement': 1, 'perpetuate': 1, 'exacerbate': 2, 'existing': 1, 'inequalities': 1, 'concerns': 1, 'potential': 3, 'employment': 1, 'fears': 1, 'lead': 1, 'job': 1, 'displacement': 1, 'income': 1, 'inequality': 1, 'Addressing': 1, 'requires': 1, 'careful': 1, 'consideration': 1, 'principles': 1, 'regulatory': 1, 'frameworks': 1, 'technological': 1, 'safeguards': 1, 'ensure': 1, 'benefits': 1, 'Despite': 1, 'transform': 1, 'industries': 1, 'address': 1, 'complex': 1, 'problems': 1, 'remains': 1, 'immense': 1, 'ongoing': 1, 'research': 1, 'collaboration': 1, 'disciplines': 1, 'holds': 1, 'promise': 1, 'productivity': 1, 'quality': 1, 'life': 1, 'people': 1, 'world': 1, 'version': 1, 'provides': 1, 'detailed': 1, 'overview': 1, 'domains': 1, 'Let': 1, 'know': 1, 'need': 1, 'adjustments': 1, 'assistance': 1}\n"
     ]
    }
   ],
   "source": [
    "print(word_freq)"
   ]
  },
  {
   "cell_type": "code",
   "execution_count": 14,
   "id": "c869214f-3d18-49e9-a0ca-77a6dd2b3d3b",
   "metadata": {},
   "outputs": [
    {
     "data": {
      "text/plain": [
       "16"
      ]
     },
     "execution_count": 14,
     "metadata": {},
     "output_type": "execute_result"
    }
   ],
   "source": [
    "max_freq = max(word_freq.values())\n",
    "max_freq"
   ]
  },
  {
   "cell_type": "code",
   "execution_count": 15,
   "id": "1f2855b4-4f17-49ef-b4ef-c30bbb97e4fd",
   "metadata": {},
   "outputs": [],
   "source": [
    "for word in word_freq.keys():\n",
    "    word_freq[word] /= max_freq"
   ]
  },
  {
   "cell_type": "code",
   "execution_count": 16,
   "id": "e861c8bc-7f28-43d8-85da-2b0ae9af517d",
   "metadata": {},
   "outputs": [
    {
     "name": "stdout",
     "output_type": "stream",
     "text": [
      "{'recent': 0.0625, 'years': 0.0625, 'field': 0.0625, 'artificial': 0.125, 'intelligence': 0.125, 'AI': 1.0, 'experienced': 0.0625, 'unprecedented': 0.0625, 'growth': 0.0625, 'innovation': 0.125, 'revolutionizing': 0.0625, 'facets': 0.0625, 'human': 0.0625, 'existence': 0.0625, 'technologies': 0.125, 'encompassing': 0.0625, 'machine': 0.0625, 'learning': 0.0625, 'natural': 0.0625, 'language': 0.0625, 'processing': 0.0625, 'computer': 0.0625, 'vision': 0.0625, 'robotics': 0.0625, 'permeated': 0.0625, 'nearly': 0.0625, 'aspect': 0.0625, 'daily': 0.0625, 'lives': 0.0625, 'virtual': 0.125, 'assistants': 0.0625, 'like': 0.125, 'Siri': 0.0625, 'Alexa': 0.0625, 'assist': 0.0625, 'tasks': 0.0625, 'provide': 0.0625, 'information': 0.0625, 'sophisticated': 0.0625, 'algorithms': 0.1875, 'powering': 0.0625, 'self': 0.0625, 'driving': 0.1875, 'cars': 0.0625, 'integral': 0.0625, 'modern': 0.0625, 'society': 0.125, 'Furthermore': 0.125, 'driven': 0.0625, 'recommendation': 0.0625, 'systems': 0.1875, 'streaming': 0.0625, 'platforms': 0.0625, 'e': 0.0625, 'commerce': 0.0625, 'websites': 0.0625, 'offer': 0.0625, 'personalized': 0.0625, 'content': 0.0625, 'product': 0.0625, 'suggestions': 0.0625, 'enhancing': 0.125, 'user': 0.0625, 'experiences': 0.125, 'engagement': 0.0625, 'impact': 0.1875, 'extends': 0.0625, 'far': 0.0625, 'consumer': 0.0625, 'applications': 0.125, 'healthcare': 0.125, 'analyze': 0.125, 'medical': 0.0625, 'data': 0.25, 'aid': 0.0625, 'disease': 0.0625, 'diagnosis': 0.0625, 'treatment': 0.0625, 'planning': 0.0625, 'potentially': 0.0625, 'improving': 0.125, 'patient': 0.0625, 'outcomes': 0.0625, 'reducing': 0.0625, 'costs': 0.0625, 'finance': 0.0625, 'powered': 0.0625, 'vast': 0.125, 'amounts': 0.125, 'identify': 0.0625, 'market': 0.0625, 'trends': 0.0625, 'manage': 0.0625, 'risk': 0.0625, 'optimize': 0.0625, 'investment': 0.0625, 'strategies': 0.0625, 'reshaping': 0.0625, 'manufacturing': 0.0625, 'landscape': 0.0625, 'automation': 0.125, 'predictive': 0.0625, 'maintenance': 0.0625, 'leading': 0.0625, 'increased': 0.0625, 'efficiency': 0.0625, 'reduced': 0.0625, 'downtime': 0.0625, 'entertainment': 0.0625, 'create': 0.0625, 'immersive': 0.0625, 'reality': 0.125, 'games': 0.0625, 'augmented': 0.0625, 'widespread': 0.0625, 'adoption': 0.0625, 'presents': 0.0625, 'significant': 0.0625, 'ethical': 0.125, 'societal': 0.0625, 'challenges': 0.25, 'Concerns': 0.0625, 'privacy': 0.0625, 'security': 0.0625, 'emerged': 0.0625, 'rely': 0.0625, 'personal': 0.0625, 'training': 0.0625, 'decision': 0.0625, 'making': 0.0625, 'issues': 0.0625, 'algorithmic': 0.0625, 'bias': 0.0625, 'raised': 0.0625, 'questions': 0.0625, 'fairness': 0.0625, 'accountability': 0.0625, 'particularly': 0.0625, 'areas': 0.0625, 'hiring': 0.0625, 'lending': 0.0625, 'law': 0.0625, 'enforcement': 0.0625, 'perpetuate': 0.0625, 'exacerbate': 0.125, 'existing': 0.0625, 'inequalities': 0.0625, 'concerns': 0.0625, 'potential': 0.1875, 'employment': 0.0625, 'fears': 0.0625, 'lead': 0.0625, 'job': 0.0625, 'displacement': 0.0625, 'income': 0.0625, 'inequality': 0.0625, 'Addressing': 0.0625, 'requires': 0.0625, 'careful': 0.0625, 'consideration': 0.0625, 'principles': 0.0625, 'regulatory': 0.0625, 'frameworks': 0.0625, 'technological': 0.0625, 'safeguards': 0.0625, 'ensure': 0.0625, 'benefits': 0.0625, 'Despite': 0.0625, 'transform': 0.0625, 'industries': 0.0625, 'address': 0.0625, 'complex': 0.0625, 'problems': 0.0625, 'remains': 0.0625, 'immense': 0.0625, 'ongoing': 0.0625, 'research': 0.0625, 'collaboration': 0.0625, 'disciplines': 0.0625, 'holds': 0.0625, 'promise': 0.0625, 'productivity': 0.0625, 'quality': 0.0625, 'life': 0.0625, 'people': 0.0625, 'world': 0.0625, 'version': 0.0625, 'provides': 0.0625, 'detailed': 0.0625, 'overview': 0.0625, 'domains': 0.0625, 'Let': 0.0625, 'know': 0.0625, 'need': 0.0625, 'adjustments': 0.0625, 'assistance': 0.0625}\n"
     ]
    }
   ],
   "source": [
    "print(word_freq)"
   ]
  },
  {
   "cell_type": "code",
   "execution_count": 17,
   "id": "f89676bb-9abb-4306-abbd-a58c148edd48",
   "metadata": {},
   "outputs": [
    {
     "name": "stdout",
     "output_type": "stream",
     "text": [
      "[In recent years, the field of artificial intelligence (AI) has experienced unprecedented growth and innovation, revolutionizing various facets of human existence., AI technologies, encompassing machine learning, natural language processing, computer vision, and robotics, have permeated nearly every aspect of our daily lives. \n",
      ", From virtual assistants like Siri and Alexa that assist with tasks and provide information, to sophisticated algorithms powering self-driving cars, AI has become an integral part of modern society., Furthermore, AI-driven recommendation systems on streaming platforms and e-commerce websites offer personalized content and product suggestions, enhancing user experiences and driving engagement.\n",
      ", The impact of AI extends far beyond consumer applications., In healthcare, AI algorithms analyze medical data to aid in disease diagnosis and treatment planning, potentially improving patient outcomes and reducing healthcare costs., In finance, AI-powered algorithms analyze vast amounts of data to identify market trends, manage risk, and optimize investment strategies. \n",
      ", Moreover, AI technologies are reshaping the manufacturing landscape through automation and predictive maintenance, leading to increased efficiency and reduced downtime., In entertainment, AI is used to create immersive experiences, such as virtual reality games and augmented reality applications.\n",
      ", However, the widespread adoption of AI also presents significant ethical and societal challenges., Concerns about data privacy and security have emerged as AI systems rely on vast amounts of personal data for training and decision-making., Moreover, issues of algorithmic bias have raised questions about fairness and accountability, particularly in areas like hiring, lending, and law enforcement where AI systems can perpetuate or exacerbate existing inequalities.\n",
      ", Furthermore, there are concerns about the potential impact of AI on employment, with fears that automation could lead to job displacement and exacerbate income inequality., Addressing these challenges requires careful consideration of ethical principles, regulatory frameworks, and technological safeguards to ensure that AI benefits society as a whole.\n",
      ", Despite these challenges, the potential of AI to transform industries and address complex problems remains immense., With ongoing research and collaboration across disciplines, AI holds the promise of driving innovation, enhancing productivity, and improving quality of life for people around the world.\" \n",
      ", This version provides a more detailed overview of the impact, challenges, and potential of artificial intelligence in various domains., Let me know if you need further adjustments or assistance!]\n"
     ]
    }
   ],
   "source": [
    "sent_tokens = [sent for sent in doc.sents]\n",
    "print(sent_tokens)"
   ]
  },
  {
   "cell_type": "code",
   "execution_count": 19,
   "id": "de3a789a-4ab4-4bbc-bdd7-29f105591968",
   "metadata": {},
   "outputs": [],
   "source": [
    "sent_score = {}\n",
    "for sent in sent_tokens:\n",
    "    for word in sent:\n",
    "        if word.text.lower() in word_freq.keys():\n",
    "            if sent not in sent_score.keys():\n",
    "                sent_score[sent] = word_freq[word.text.lower()]\n",
    "            else:\n",
    "                sent_score[sent] += word_freq[word.text.lower()]"
   ]
  },
  {
   "cell_type": "code",
   "execution_count": 20,
   "id": "d82ffda1-03a1-467f-9f9e-2ccfee94fa8c",
   "metadata": {},
   "outputs": [
    {
     "name": "stdout",
     "output_type": "stream",
     "text": [
      "{In recent years, the field of artificial intelligence (AI) has experienced unprecedented growth and innovation, revolutionizing various facets of human existence.: 1.0, AI technologies, encompassing machine learning, natural language processing, computer vision, and robotics, have permeated nearly every aspect of our daily lives. \n",
      ": 1.0, From virtual assistants like Siri and Alexa that assist with tasks and provide information, to sophisticated algorithms powering self-driving cars, AI has become an integral part of modern society.: 1.4375, Furthermore, AI-driven recommendation systems on streaming platforms and e-commerce websites offer personalized content and product suggestions, enhancing user experiences and driving engagement.\n",
      ": 1.5, The impact of AI extends far beyond consumer applications.: 0.5, In healthcare, AI algorithms analyze medical data to aid in disease diagnosis and treatment planning, potentially improving patient outcomes and reducing healthcare costs.: 1.625, In finance, AI-powered algorithms analyze vast amounts of data to identify market trends, manage risk, and optimize investment strategies. \n",
      ": 1.4375, Moreover, AI technologies are reshaping the manufacturing landscape through automation and predictive maintenance, leading to increased efficiency and reduced downtime.: 0.875, In entertainment, AI is used to create immersive experiences, such as virtual reality games and augmented reality applications.\n",
      ": 0.9375, However, the widespread adoption of AI also presents significant ethical and societal challenges.: 0.6875, Concerns about data privacy and security have emerged as AI systems rely on vast amounts of personal data for training and decision-making.: 1.5, Moreover, issues of algorithmic bias have raised questions about fairness and accountability, particularly in areas like hiring, lending, and law enforcement where AI systems can perpetuate or exacerbate existing inequalities.\n",
      ": 1.4375, Furthermore, there are concerns about the potential impact of AI on employment, with fears that automation could lead to job displacement and exacerbate income inequality.: 1.125, Addressing these challenges requires careful consideration of ethical principles, regulatory frameworks, and technological safeguards to ensure that AI benefits society as a whole.\n",
      ": 1.125, Despite these challenges, the potential of AI to transform industries and address complex problems remains immense.: 0.875, With ongoing research and collaboration across disciplines, AI holds the promise of driving innovation, enhancing productivity, and improving quality of life for people around the world.\" \n",
      ": 1.25, This version provides a more detailed overview of the impact, challenges, and potential of artificial intelligence in various domains.: 1.1875, Let me know if you need further adjustments or assistance!: 0.25}\n"
     ]
    }
   ],
   "source": [
    "print(sent_score)"
   ]
  },
  {
   "cell_type": "code",
   "execution_count": 21,
   "id": "0fc94318-2421-440e-8ebd-1f69256147bf",
   "metadata": {},
   "outputs": [],
   "source": [
    "from heapq import nlargest"
   ]
  },
  {
   "cell_type": "code",
   "execution_count": 23,
   "id": "dfad2b3c-7ac6-4150-b83d-5a72f79d5f63",
   "metadata": {},
   "outputs": [
    {
     "data": {
      "text/plain": [
       "5.3999999999999995"
      ]
     },
     "execution_count": 23,
     "metadata": {},
     "output_type": "execute_result"
    }
   ],
   "source": [
    "len(sent_score)*0.3"
   ]
  },
  {
   "cell_type": "code",
   "execution_count": 26,
   "id": "32ee69e5-1939-4555-8a5c-a60c881f6081",
   "metadata": {},
   "outputs": [],
   "source": [
    "summary = nlargest(n=6, iterable=sent_score, key=sent_score.get)"
   ]
  },
  {
   "cell_type": "code",
   "execution_count": 27,
   "id": "18779384-7a1e-4126-abef-577edc3c57e2",
   "metadata": {},
   "outputs": [
    {
     "name": "stdout",
     "output_type": "stream",
     "text": [
      "[In healthcare, AI algorithms analyze medical data to aid in disease diagnosis and treatment planning, potentially improving patient outcomes and reducing healthcare costs., Furthermore, AI-driven recommendation systems on streaming platforms and e-commerce websites offer personalized content and product suggestions, enhancing user experiences and driving engagement.\n",
      ", Concerns about data privacy and security have emerged as AI systems rely on vast amounts of personal data for training and decision-making., From virtual assistants like Siri and Alexa that assist with tasks and provide information, to sophisticated algorithms powering self-driving cars, AI has become an integral part of modern society., In finance, AI-powered algorithms analyze vast amounts of data to identify market trends, manage risk, and optimize investment strategies. \n",
      ", Moreover, issues of algorithmic bias have raised questions about fairness and accountability, particularly in areas like hiring, lending, and law enforcement where AI systems can perpetuate or exacerbate existing inequalities.\n",
      "]\n"
     ]
    }
   ],
   "source": [
    "print(summary)"
   ]
  },
  {
   "cell_type": "code",
   "execution_count": 28,
   "id": "c298c014-dc71-4c15-82b0-e414926936bf",
   "metadata": {},
   "outputs": [],
   "source": [
    "final_summary = [word.text for word in summary]"
   ]
  },
  {
   "cell_type": "code",
   "execution_count": 29,
   "id": "036404c7-ff71-4253-812a-59f960d49544",
   "metadata": {},
   "outputs": [
    {
     "name": "stdout",
     "output_type": "stream",
     "text": [
      "['In healthcare, AI algorithms analyze medical data to aid in disease diagnosis and treatment planning, potentially improving patient outcomes and reducing healthcare costs.', 'Furthermore, AI-driven recommendation systems on streaming platforms and e-commerce websites offer personalized content and product suggestions, enhancing user experiences and driving engagement.\\n', 'Concerns about data privacy and security have emerged as AI systems rely on vast amounts of personal data for training and decision-making.', 'From virtual assistants like Siri and Alexa that assist with tasks and provide information, to sophisticated algorithms powering self-driving cars, AI has become an integral part of modern society.', 'In finance, AI-powered algorithms analyze vast amounts of data to identify market trends, manage risk, and optimize investment strategies. \\n', 'Moreover, issues of algorithmic bias have raised questions about fairness and accountability, particularly in areas like hiring, lending, and law enforcement where AI systems can perpetuate or exacerbate existing inequalities.\\n']\n"
     ]
    }
   ],
   "source": [
    "print(final_summary)"
   ]
  },
  {
   "cell_type": "code",
   "execution_count": 30,
   "id": "aed1d3b4-94dc-4a48-ab24-d9e263ff32d2",
   "metadata": {},
   "outputs": [],
   "source": [
    "text_summary = ' '.join(final_summary)"
   ]
  },
  {
   "cell_type": "code",
   "execution_count": 31,
   "id": "ff1cf706-fda5-42ed-b4d2-b712bd19a9e4",
   "metadata": {},
   "outputs": [
    {
     "name": "stdout",
     "output_type": "stream",
     "text": [
      "In healthcare, AI algorithms analyze medical data to aid in disease diagnosis and treatment planning, potentially improving patient outcomes and reducing healthcare costs. Furthermore, AI-driven recommendation systems on streaming platforms and e-commerce websites offer personalized content and product suggestions, enhancing user experiences and driving engagement.\n",
      " Concerns about data privacy and security have emerged as AI systems rely on vast amounts of personal data for training and decision-making. From virtual assistants like Siri and Alexa that assist with tasks and provide information, to sophisticated algorithms powering self-driving cars, AI has become an integral part of modern society. In finance, AI-powered algorithms analyze vast amounts of data to identify market trends, manage risk, and optimize investment strategies. \n",
      " Moreover, issues of algorithmic bias have raised questions about fairness and accountability, particularly in areas like hiring, lending, and law enforcement where AI systems can perpetuate or exacerbate existing inequalities.\n",
      "\n"
     ]
    }
   ],
   "source": [
    "print(text_summary)"
   ]
  },
  {
   "cell_type": "code",
   "execution_count": 33,
   "id": "e91e4436-3071-4d0d-a971-a71b265503af",
   "metadata": {},
   "outputs": [
    {
     "data": {
      "text/plain": [
       "0.3974121996303142"
      ]
     },
     "execution_count": 33,
     "metadata": {},
     "output_type": "execute_result"
    }
   ],
   "source": [
    "len(text_summary)/ len(text)"
   ]
  },
  {
   "cell_type": "code",
   "execution_count": null,
   "id": "f06b1a4f-c12b-40ec-9635-56cbffcc52fa",
   "metadata": {},
   "outputs": [],
   "source": []
  }
 ],
 "metadata": {
  "kernelspec": {
   "display_name": "Python 3 (ipykernel)",
   "language": "python",
   "name": "python3"
  },
  "language_info": {
   "codemirror_mode": {
    "name": "ipython",
    "version": 3
   },
   "file_extension": ".py",
   "mimetype": "text/x-python",
   "name": "python",
   "nbconvert_exporter": "python",
   "pygments_lexer": "ipython3",
   "version": "3.11.5"
  }
 },
 "nbformat": 4,
 "nbformat_minor": 5
}
